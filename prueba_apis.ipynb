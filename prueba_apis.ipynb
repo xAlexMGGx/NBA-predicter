{
 "cells": [
  {
   "cell_type": "code",
   "execution_count": 73,
   "metadata": {},
   "outputs": [],
   "source": [
    "import requests\n",
    "import json\n",
    "import pandas as pd"
   ]
  },
  {
   "cell_type": "code",
   "execution_count": 74,
   "metadata": {},
   "outputs": [],
   "source": [
    "def extract_matches(year):\n",
    "    # Extracting last matches date\n",
    "    api_key = eval(open('config.txt').read())['auth']\n",
    "    url = f'https://api.sportsdata.io/v3/nba/scores/json/Games/{year}?key={api_key}'\n",
    "    response = requests.get(url).json()\n",
    "    df = pd.DataFrame(response)\n",
    "    df = pd.concat([df[df['HomeTeam'] == 'LAL'], df[df['AwayTeam'] == 'LAL']])\n",
    "    df['DateTime'] = [pd.to_datetime(d).strftime(format='%Y-%m-%d') for d in df['DateTime']]\n",
    "    return df\n",
    "def extract_next_match():\n",
    "    df = extract_matches(2023)\n",
    "    # Extracting next match date\n",
    "    df_ended = df[df['Status'] != 'Scheduled'].sort_values(by='DateTime', ascending=True).reset_index(drop=True)\n",
    "    df_scheduled = df[df['Status'] == 'Scheduled'].sort_values(by='DateTime', ascending=True).reset_index(drop=True)\n",
    "    next_match = df_scheduled.iloc[0]\n",
    "    next_match_date = next_match['DateTime']\n",
    "    home_team = next_match['HomeTeam']\n",
    "    away_team = next_match['AwayTeam']\n",
    "    # Extracting last two matches score\n",
    "    if home_team == 'LAL':\n",
    "        vs_team = away_team\n",
    "    else:\n",
    "        vs_team = home_team\n",
    "    df_2022 = extract_matches(2022)\n",
    "    last_matches = pd.concat([df_ended[df_ended['HomeTeam'] == vs_team], df_ended[df_ended['AwayTeam'] == vs_team], df_2022[df_2022['HomeTeam'] == vs_team], df_2022[df_2022['AwayTeam'] == vs_team]])\n",
    "    last_matches = last_matches.sort_values(by='DateTime', ascending=True).reset_index(drop=True)\n",
    "    last_matches = last_matches.iloc[-2:]\n",
    "    display(last_matches[['DateTime', 'HomeTeam', 'AwayTeam', 'HomeTeamScore', 'AwayTeamScore']])"
   ]
  },
  {
   "cell_type": "code",
   "execution_count": 75,
   "metadata": {},
   "outputs": [
    {
     "data": {
      "text/html": [
       "<div>\n",
       "<style scoped>\n",
       "    .dataframe tbody tr th:only-of-type {\n",
       "        vertical-align: middle;\n",
       "    }\n",
       "\n",
       "    .dataframe tbody tr th {\n",
       "        vertical-align: top;\n",
       "    }\n",
       "\n",
       "    .dataframe thead th {\n",
       "        text-align: right;\n",
       "    }\n",
       "</style>\n",
       "<table border=\"1\" class=\"dataframe\">\n",
       "  <thead>\n",
       "    <tr style=\"text-align: right;\">\n",
       "      <th></th>\n",
       "      <th>DateTime</th>\n",
       "      <th>HomeTeam</th>\n",
       "      <th>AwayTeam</th>\n",
       "      <th>HomeTeamScore</th>\n",
       "      <th>AwayTeamScore</th>\n",
       "    </tr>\n",
       "  </thead>\n",
       "  <tbody>\n",
       "    <tr>\n",
       "      <th>0</th>\n",
       "      <td>2022-01-07</td>\n",
       "      <td>LAL</td>\n",
       "      <td>ATL</td>\n",
       "      <td>62.0</td>\n",
       "      <td>55.0</td>\n",
       "    </tr>\n",
       "    <tr>\n",
       "      <th>1</th>\n",
       "      <td>2022-01-30</td>\n",
       "      <td>ATL</td>\n",
       "      <td>LAL</td>\n",
       "      <td>60.0</td>\n",
       "      <td>56.0</td>\n",
       "    </tr>\n",
       "  </tbody>\n",
       "</table>\n",
       "</div>"
      ],
      "text/plain": [
       "     DateTime HomeTeam AwayTeam  HomeTeamScore  AwayTeamScore\n",
       "0  2022-01-07      LAL      ATL           62.0           55.0\n",
       "1  2022-01-30      ATL      LAL           60.0           56.0"
      ]
     },
     "metadata": {},
     "output_type": "display_data"
    }
   ],
   "source": [
    "if __name__ == '__main__':\n",
    "    extract_next_match()"
   ]
  }
 ],
 "metadata": {
  "kernelspec": {
   "display_name": "Python 3",
   "language": "python",
   "name": "python3"
  },
  "language_info": {
   "codemirror_mode": {
    "name": "ipython",
    "version": 3
   },
   "file_extension": ".py",
   "mimetype": "text/x-python",
   "name": "python",
   "nbconvert_exporter": "python",
   "pygments_lexer": "ipython3",
   "version": "3.9.13"
  },
  "orig_nbformat": 4,
  "vscode": {
   "interpreter": {
    "hash": "8f12ac73a664481df0f19cabf9db6d6a7ad32c068574f961cd284c34d9a5f380"
   }
  }
 },
 "nbformat": 4,
 "nbformat_minor": 2
}
